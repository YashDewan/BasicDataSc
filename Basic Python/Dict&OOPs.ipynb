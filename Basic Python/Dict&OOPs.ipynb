{
  "nbformat": 4,
  "nbformat_minor": 0,
  "metadata": {
    "colab": {
      "name": "Dict&OOPs.ipynb",
      "provenance": [],
      "include_colab_link": true
    },
    "kernelspec": {
      "name": "python3",
      "display_name": "Python 3"
    },
    "language_info": {
      "name": "python"
    }
  },
  "cells": [
    {
      "cell_type": "markdown",
      "metadata": {
        "id": "view-in-github",
        "colab_type": "text"
      },
      "source": [
        "<a href=\"https://colab.research.google.com/github/YashDewan/BasicDataSc/blob/main/Basic%20Python/Dict%26OOPs.ipynb\" target=\"_parent\"><img src=\"https://colab.research.google.com/assets/colab-badge.svg\" alt=\"Open In Colab\"/></a>"
      ]
    },
    {
      "cell_type": "code",
      "execution_count": null,
      "metadata": {
        "id": "x_mupT7n1FeW"
      },
      "outputs": [],
      "source": [
        "dict1={'Name':\"Kunal\",\n",
        "       \"Team\":\"HotDev\"}"
      ]
    },
    {
      "cell_type": "code",
      "source": [
        "dict1"
      ],
      "metadata": {
        "colab": {
          "base_uri": "https://localhost:8080/"
        },
        "id": "ws912XMh8tyW",
        "outputId": "e34ec9c7-2e0d-4cec-9536-12415c4c551f"
      },
      "execution_count": null,
      "outputs": [
        {
          "output_type": "execute_result",
          "data": {
            "text/plain": [
              "{'Name': 'Kunal', 'Team': 'HotDev'}"
            ]
          },
          "metadata": {},
          "execution_count": 2
        }
      ]
    },
    {
      "cell_type": "code",
      "source": [
        "type(dict1)"
      ],
      "metadata": {
        "colab": {
          "base_uri": "https://localhost:8080/"
        },
        "id": "rJ_i5_xl80P4",
        "outputId": "caff0599-3c9f-45a5-aa6c-2ad21935c369"
      },
      "execution_count": null,
      "outputs": [
        {
          "output_type": "execute_result",
          "data": {
            "text/plain": [
              "dict"
            ]
          },
          "metadata": {},
          "execution_count": 3
        }
      ]
    },
    {
      "cell_type": "markdown",
      "source": [
        "Dictionaries are:\n",
        "1. Ordered (After python 3.7)\n",
        "2. Not Indexed \n",
        "3. Mutable (Values can be changed)\n",
        "4. No Duplicate values"
      ],
      "metadata": {
        "id": "qM5zoVGR8-Wr"
      }
    },
    {
      "cell_type": "code",
      "source": [
        "dict2={\n",
        "    'A':1,\n",
        "    'C':'Kunal',\n",
        "    'B':[1,2,3],\n",
        "    'A':3\n",
        "}"
      ],
      "metadata": {
        "id": "PvB754hx83EB"
      },
      "execution_count": null,
      "outputs": []
    },
    {
      "cell_type": "code",
      "source": [
        "dict2"
      ],
      "metadata": {
        "colab": {
          "base_uri": "https://localhost:8080/"
        },
        "id": "17izsFKL9vFT",
        "outputId": "d17aa26a-6fdf-4dde-e665-6a4f32b01d6f"
      },
      "execution_count": null,
      "outputs": [
        {
          "output_type": "execute_result",
          "data": {
            "text/plain": [
              "{'A': 3, 'B': [1, 2, 3], 'C': 'Kunal'}"
            ]
          },
          "metadata": {},
          "execution_count": 13
        }
      ]
    },
    {
      "cell_type": "code",
      "source": [
        "dict2[\"A\"]"
      ],
      "metadata": {
        "colab": {
          "base_uri": "https://localhost:8080/"
        },
        "id": "6hVtiN_Q90p5",
        "outputId": "0a9cc0d7-f696-4a57-ca21-334f00f495a7"
      },
      "execution_count": null,
      "outputs": [
        {
          "output_type": "execute_result",
          "data": {
            "text/plain": [
              "1"
            ]
          },
          "metadata": {},
          "execution_count": 7
        }
      ]
    },
    {
      "cell_type": "code",
      "source": [
        "dict2['C']='Aman'"
      ],
      "metadata": {
        "id": "EqccMOCd-GFM"
      },
      "execution_count": null,
      "outputs": []
    },
    {
      "cell_type": "code",
      "source": [
        "dict2"
      ],
      "metadata": {
        "colab": {
          "base_uri": "https://localhost:8080/"
        },
        "id": "8h_C_YaI-UNZ",
        "outputId": "09788d3b-8cb1-475a-be32-ad4bfe129094"
      },
      "execution_count": null,
      "outputs": [
        {
          "output_type": "execute_result",
          "data": {
            "text/plain": [
              "{'A': 1, 'B': [1, 2, 3], 'C': 'Aman'}"
            ]
          },
          "metadata": {},
          "execution_count": 9
        }
      ]
    },
    {
      "cell_type": "code",
      "source": [
        "dict2['A']=1"
      ],
      "metadata": {
        "id": "F-Ayiko3-Ux3"
      },
      "execution_count": null,
      "outputs": []
    },
    {
      "cell_type": "code",
      "source": [
        "dict2"
      ],
      "metadata": {
        "colab": {
          "base_uri": "https://localhost:8080/"
        },
        "id": "Sl3ATMFR-cIb",
        "outputId": "da948139-eabf-4262-f26b-5f982bb3b2f3"
      },
      "execution_count": null,
      "outputs": [
        {
          "output_type": "execute_result",
          "data": {
            "text/plain": [
              "{'A': 1, 'B': [1, 2, 3], 'C': 'Aman'}"
            ]
          },
          "metadata": {},
          "execution_count": 11
        }
      ]
    },
    {
      "cell_type": "code",
      "source": [
        "type(dict2['B'])"
      ],
      "metadata": {
        "colab": {
          "base_uri": "https://localhost:8080/"
        },
        "id": "9iiBDWjI-eDs",
        "outputId": "df022d99-ba68-4347-b6e2-27f14569c01a"
      },
      "execution_count": null,
      "outputs": [
        {
          "output_type": "execute_result",
          "data": {
            "text/plain": [
              "list"
            ]
          },
          "metadata": {},
          "execution_count": 15
        }
      ]
    },
    {
      "cell_type": "code",
      "source": [
        "dict2['B'][1]"
      ],
      "metadata": {
        "colab": {
          "base_uri": "https://localhost:8080/"
        },
        "id": "a-K1oqGN-65I",
        "outputId": "7954a70e-b1ad-45fa-a332-fd1baf60f56d"
      },
      "execution_count": null,
      "outputs": [
        {
          "output_type": "execute_result",
          "data": {
            "text/plain": [
              "2"
            ]
          },
          "metadata": {},
          "execution_count": 16
        }
      ]
    },
    {
      "cell_type": "code",
      "source": [
        "dict2"
      ],
      "metadata": {
        "colab": {
          "base_uri": "https://localhost:8080/"
        },
        "id": "wLUOnfUZ_Jnc",
        "outputId": "b8696863-0691-4db5-bb14-7c4e4fec3a32"
      },
      "execution_count": null,
      "outputs": [
        {
          "output_type": "execute_result",
          "data": {
            "text/plain": [
              "{'A': 3, 'B': [1, 2, 3], 'C': 'Kunal'}"
            ]
          },
          "metadata": {},
          "execution_count": 20
        }
      ]
    },
    {
      "cell_type": "code",
      "source": [
        "dict2.keys()"
      ],
      "metadata": {
        "colab": {
          "base_uri": "https://localhost:8080/"
        },
        "id": "Fx9gWKp9_Tcz",
        "outputId": "60e3d885-93a4-41bf-8068-14688335ae48"
      },
      "execution_count": null,
      "outputs": [
        {
          "output_type": "execute_result",
          "data": {
            "text/plain": [
              "dict_keys(['A', 'C', 'B'])"
            ]
          },
          "metadata": {},
          "execution_count": 21
        }
      ]
    },
    {
      "cell_type": "code",
      "source": [
        "dict2.values()"
      ],
      "metadata": {
        "colab": {
          "base_uri": "https://localhost:8080/"
        },
        "id": "PX-IQ2KC_UXA",
        "outputId": "91e65a46-b3c0-41c7-c283-d7ef10593df5"
      },
      "execution_count": null,
      "outputs": [
        {
          "output_type": "execute_result",
          "data": {
            "text/plain": [
              "dict_values([3, 'Kunal', [1, 2, 3]])"
            ]
          },
          "metadata": {},
          "execution_count": 22
        }
      ]
    },
    {
      "cell_type": "code",
      "source": [
        "for i in dict2.values():\n",
        "  print(i)"
      ],
      "metadata": {
        "colab": {
          "base_uri": "https://localhost:8080/"
        },
        "id": "R4fr2SA2_mgh",
        "outputId": "5fbd27bc-c172-442b-a441-60ffbf59549f"
      },
      "execution_count": null,
      "outputs": [
        {
          "output_type": "stream",
          "name": "stdout",
          "text": [
            "3\n",
            "Kunal\n",
            "[1, 2, 3]\n"
          ]
        }
      ]
    },
    {
      "cell_type": "code",
      "source": [
        "for i,j in dict2.items():\n",
        "  print(i,j)"
      ],
      "metadata": {
        "colab": {
          "base_uri": "https://localhost:8080/"
        },
        "id": "P9YziuIRAA0h",
        "outputId": "859b420d-55cd-41bd-8e73-67a29401eefd"
      },
      "execution_count": null,
      "outputs": [
        {
          "output_type": "stream",
          "name": "stdout",
          "text": [
            "A 3\n",
            "C Kunal\n",
            "B [1, 2, 3]\n"
          ]
        }
      ]
    },
    {
      "cell_type": "code",
      "source": [
        "for i,j in zip(dict2.values(),dict2.keys()):\n",
        "  print(i,j)"
      ],
      "metadata": {
        "colab": {
          "base_uri": "https://localhost:8080/"
        },
        "id": "mCc3IbGuAMQW",
        "outputId": "72541a11-e748-47e9-ed70-4f83d69ed7ef"
      },
      "execution_count": null,
      "outputs": [
        {
          "output_type": "stream",
          "name": "stdout",
          "text": [
            "3 A\n",
            "Kunal C\n",
            "[1, 2, 3] B\n"
          ]
        }
      ]
    },
    {
      "cell_type": "code",
      "source": [
        "dict2.items()"
      ],
      "metadata": {
        "colab": {
          "base_uri": "https://localhost:8080/"
        },
        "id": "Jg93eY7GAXAJ",
        "outputId": "536f0af5-6f61-480a-fd47-6a5c5f5280ea"
      },
      "execution_count": null,
      "outputs": [
        {
          "output_type": "execute_result",
          "data": {
            "text/plain": [
              "dict_items([('A', 3), ('C', 'Kunal'), ('B', [1, 2, 3])])"
            ]
          },
          "metadata": {},
          "execution_count": 28
        }
      ]
    },
    {
      "cell_type": "markdown",
      "source": [
        "Ques 1:- Make one Dictionary Which has a number 1 to 5 as a key and it's square as a value\n",
        "\n",
        "dict ={\n",
        "    \"1\":1,\n",
        "    '2':4,\n",
        "    '3':9,\n",
        "    '4':16,\n",
        "    '5':25\n",
        "}\n",
        "\n",
        "\n",
        "Ques2 :-- Given a dictionary in Python WAP to find the sum of all items in the dictionary"
      ],
      "metadata": {
        "id": "KxTWXRjFBTjg"
      }
    },
    {
      "cell_type": "code",
      "source": [
        "dict4={val:val*val for val in range(1,6)}"
      ],
      "metadata": {
        "id": "uKYuC8SrArwP"
      },
      "execution_count": null,
      "outputs": []
    },
    {
      "cell_type": "code",
      "source": [
        "dict4"
      ],
      "metadata": {
        "colab": {
          "base_uri": "https://localhost:8080/"
        },
        "id": "tARw21KtApn2",
        "outputId": "b247391a-80e9-4047-b8c3-0f2699e457b2"
      },
      "execution_count": null,
      "outputs": [
        {
          "output_type": "execute_result",
          "data": {
            "text/plain": [
              "{1: 1, 2: 4, 3: 9, 4: 16, 5: 25}"
            ]
          },
          "metadata": {},
          "execution_count": 31
        }
      ]
    },
    {
      "cell_type": "code",
      "source": [
        "sum1=sum(dict4.values())"
      ],
      "metadata": {
        "id": "ZVWuQ4MeEv7i"
      },
      "execution_count": null,
      "outputs": []
    },
    {
      "cell_type": "code",
      "source": [
        "sum1"
      ],
      "metadata": {
        "colab": {
          "base_uri": "https://localhost:8080/"
        },
        "id": "vaD0sOL1Fl82",
        "outputId": "9b8e9d93-d744-4ca2-c3da-c67de3ea37a6"
      },
      "execution_count": null,
      "outputs": [
        {
          "output_type": "execute_result",
          "data": {
            "text/plain": [
              "55"
            ]
          },
          "metadata": {},
          "execution_count": 35
        }
      ]
    },
    {
      "cell_type": "code",
      "source": [
        "dict5=dict4"
      ],
      "metadata": {
        "id": "wah3BrEaFnBv"
      },
      "execution_count": null,
      "outputs": []
    },
    {
      "cell_type": "code",
      "source": [
        "dict5"
      ],
      "metadata": {
        "colab": {
          "base_uri": "https://localhost:8080/"
        },
        "id": "oe-ZZxQ4F52A",
        "outputId": "1c9b6716-bcc8-4347-9e02-0e59355731fc"
      },
      "execution_count": null,
      "outputs": [
        {
          "output_type": "execute_result",
          "data": {
            "text/plain": [
              "{1: 1, 2: 4, 3: 9, 4: 16, 5: 25}"
            ]
          },
          "metadata": {},
          "execution_count": 37
        }
      ]
    },
    {
      "cell_type": "code",
      "source": [
        "dict5=dict()"
      ],
      "metadata": {
        "id": "x1SMed7-F8JD"
      },
      "execution_count": null,
      "outputs": []
    },
    {
      "cell_type": "code",
      "source": [
        "dict5"
      ],
      "metadata": {
        "colab": {
          "base_uri": "https://localhost:8080/"
        },
        "id": "7ZPANHAgF-hc",
        "outputId": "5235af44-4689-4e55-d8cf-4a0c82aabd9f"
      },
      "execution_count": null,
      "outputs": [
        {
          "output_type": "execute_result",
          "data": {
            "text/plain": [
              "{}"
            ]
          },
          "metadata": {},
          "execution_count": 39
        }
      ]
    },
    {
      "cell_type": "code",
      "source": [
        "dict4"
      ],
      "metadata": {
        "colab": {
          "base_uri": "https://localhost:8080/"
        },
        "id": "Zy8cLjayF_c8",
        "outputId": "21ce607c-999a-4691-c497-4d774f95dc91"
      },
      "execution_count": null,
      "outputs": [
        {
          "output_type": "execute_result",
          "data": {
            "text/plain": [
              "{1: 1, 2: 4, 3: 9, 4: 16, 5: 25}"
            ]
          },
          "metadata": {},
          "execution_count": 40
        }
      ]
    },
    {
      "cell_type": "code",
      "source": [
        "dict4={}\n",
        "for i in range(1,7):\n",
        "  dict4[i]=i*i\n",
        "dict4\n"
      ],
      "metadata": {
        "colab": {
          "base_uri": "https://localhost:8080/"
        },
        "id": "agcFC2v4GhG1",
        "outputId": "c87175eb-7f66-45dc-dce0-f449c4648899"
      },
      "execution_count": null,
      "outputs": [
        {
          "output_type": "execute_result",
          "data": {
            "text/plain": [
              "{1: 1, 2: 4, 3: 9, 4: 16, 5: 25, 6: 36}"
            ]
          },
          "metadata": {},
          "execution_count": 42
        }
      ]
    },
    {
      "cell_type": "markdown",
      "source": [
        "Exception Handling"
      ],
      "metadata": {
        "id": "Zu6tNsn4I3ko"
      }
    },
    {
      "cell_type": "code",
      "source": [
        ""
      ],
      "metadata": {
        "colab": {
          "base_uri": "https://localhost:8080/"
        },
        "id": "Bbk7A72DIYrd",
        "outputId": "576f3d5b-2349-451a-d06d-7e45704c670b"
      },
      "execution_count": null,
      "outputs": [
        {
          "output_type": "execute_result",
          "data": {
            "text/plain": [
              "4"
            ]
          },
          "metadata": {},
          "execution_count": 44
        }
      ]
    },
    {
      "cell_type": "code",
      "source": [
        "\n",
        "a=5\n",
        "b=6\n",
        "c=a/0\n",
        "\n",
        "try:\n",
        "  print(\"7\")\n",
        "except:\n",
        "  print(\"line\")\n",
        "\n"
      ],
      "metadata": {
        "id": "Blz0QVBvJBcd"
      },
      "execution_count": null,
      "outputs": []
    },
    {
      "cell_type": "markdown",
      "source": [
        "1. first try will run\n",
        "2. if try become false then except will run\n",
        "3. if except becomes false or try becomes true else will run\n",
        "4. finally always running"
      ],
      "metadata": {
        "id": "8b195FB0LUzb"
      }
    },
    {
      "cell_type": "code",
      "source": [
        "class Phone:\n",
        "  a=10\n",
        "  b=5\n",
        "  def initilization(ayushi,X):\n",
        "    ayushi.a=X\n",
        "    ayushi.d=X\n",
        "  def video(kunal):\n",
        "    print(\"the phone has v call feature\")\n",
        "    print(kunal.a)\n",
        "    print(kunal.d)"
      ],
      "metadata": {
        "id": "e5FYVD9pJ6LP"
      },
      "execution_count": null,
      "outputs": []
    },
    {
      "cell_type": "code",
      "source": [
        "p1=Phone()"
      ],
      "metadata": {
        "id": "6YrULs_eOecf"
      },
      "execution_count": null,
      "outputs": []
    },
    {
      "cell_type": "code",
      "source": [
        "p1.initilization(20)"
      ],
      "metadata": {
        "id": "0n2oqlXMOiTe"
      },
      "execution_count": null,
      "outputs": []
    },
    {
      "cell_type": "code",
      "source": [
        "p1.d"
      ],
      "metadata": {
        "colab": {
          "base_uri": "https://localhost:8080/"
        },
        "id": "-rCFySM3Onx3",
        "outputId": "47602339-77d0-4e24-a8cf-26b1da25e126"
      },
      "execution_count": null,
      "outputs": [
        {
          "output_type": "execute_result",
          "data": {
            "text/plain": [
              "20"
            ]
          },
          "metadata": {},
          "execution_count": 91
        }
      ]
    },
    {
      "cell_type": "code",
      "source": [
        "p1.video()"
      ],
      "metadata": {
        "colab": {
          "base_uri": "https://localhost:8080/"
        },
        "id": "etkjQrNrOpIf",
        "outputId": "7482cebf-2843-4d76-ad6c-4177061f57e7"
      },
      "execution_count": null,
      "outputs": [
        {
          "output_type": "stream",
          "name": "stdout",
          "text": [
            "the phone has v call feature\n",
            "20\n",
            "20\n"
          ]
        }
      ]
    },
    {
      "cell_type": "code",
      "source": [
        "class Phone2:\n",
        "  def __init__(self,brand,color):\n",
        "    self.brand=brand\n",
        "    self.color=color\n",
        "  def printing(self):\n",
        "    print(\"i have \"+self.brand+\" in color \"+self.color)\n",
        "  def xyz(kunal):\n",
        "    print(\"abc\")\n"
      ],
      "metadata": {
        "id": "OY8btR_8RDtQ"
      },
      "execution_count": null,
      "outputs": []
    },
    {
      "cell_type": "code",
      "source": [
        "class Phone3(Phone2):\n",
        "  def __init__(self,brand,color,ram,rom):\n",
        "    super().__init__(brand,color)\n",
        "    self.ram=ram\n",
        "    self.rom=rom\n",
        "  def Printing2(self):\n",
        "    print(\"m hu child class\")\n",
        "    print(self.ram)\n",
        "    print(self.rom)"
      ],
      "metadata": {
        "id": "oAvrmCEjOzVm"
      },
      "execution_count": null,
      "outputs": []
    },
    {
      "cell_type": "code",
      "source": [
        "p3=Phone3(\"Samsung\",\"White\",\"16 Gb\",\"256 Gb\")"
      ],
      "metadata": {
        "id": "F-e2vFZgSUVZ"
      },
      "execution_count": null,
      "outputs": []
    },
    {
      "cell_type": "code",
      "source": [
        "p3.printing()"
      ],
      "metadata": {
        "colab": {
          "base_uri": "https://localhost:8080/"
        },
        "id": "Ssp0UydlSltT",
        "outputId": "158425a6-6c19-4a4e-8ec0-7b6f053f7661"
      },
      "execution_count": null,
      "outputs": [
        {
          "output_type": "stream",
          "name": "stdout",
          "text": [
            "i have Samsung in color White\n"
          ]
        }
      ]
    },
    {
      "cell_type": "code",
      "source": [
        "p3.Printing2()"
      ],
      "metadata": {
        "colab": {
          "base_uri": "https://localhost:8080/"
        },
        "id": "S08RgxwqVSe3",
        "outputId": "2936e774-50ea-4423-d84e-a622785c293e"
      },
      "execution_count": null,
      "outputs": [
        {
          "output_type": "stream",
          "name": "stdout",
          "text": [
            "m hu child class\n",
            "16 Gb\n",
            "256 Gb\n"
          ]
        }
      ]
    },
    {
      "cell_type": "code",
      "source": [
        ""
      ],
      "metadata": {
        "id": "nXeAKyvZYkXf"
      },
      "execution_count": null,
      "outputs": []
    },
    {
      "cell_type": "markdown",
      "source": [
        "1. Public Members Everywhere Accesible\n",
        "2. Protected members ==> Derived class and own class\n",
        "3. Private Members ==> only own class"
      ],
      "metadata": {
        "id": "CRppnnz0Yk8R"
      }
    },
    {
      "cell_type": "code",
      "source": [
        "class A:\n",
        "  a=10 #Public\n",
        "  _b=20 #Protected\n",
        "  __c=30 #Private\n",
        "  def print_all(self):\n",
        "    print(self.a)\n",
        "    print(self._b)\n",
        "    print(self.__c)\n"
      ],
      "metadata": {
        "id": "G4yt0cjzVUnm"
      },
      "execution_count": null,
      "outputs": []
    },
    {
      "cell_type": "code",
      "source": [
        "p1=A()"
      ],
      "metadata": {
        "id": "J8DjNC5FZl_3"
      },
      "execution_count": null,
      "outputs": []
    },
    {
      "cell_type": "code",
      "source": [
        "p1._b"
      ],
      "metadata": {
        "colab": {
          "base_uri": "https://localhost:8080/"
        },
        "id": "rhrlall_a-P2",
        "outputId": "73f868cc-a558-44cd-de30-76cc5f4552b4"
      },
      "execution_count": null,
      "outputs": [
        {
          "output_type": "execute_result",
          "data": {
            "text/plain": [
              "20"
            ]
          },
          "metadata": {},
          "execution_count": 138
        }
      ]
    },
    {
      "cell_type": "code",
      "source": [
        "p1.print_all()"
      ],
      "metadata": {
        "colab": {
          "base_uri": "https://localhost:8080/"
        },
        "id": "6D1VzCg1Zn_6",
        "outputId": "21f7858f-6f7c-49e5-f3e8-ebe19811b5cd"
      },
      "execution_count": null,
      "outputs": [
        {
          "output_type": "stream",
          "name": "stdout",
          "text": [
            "10\n",
            "20\n",
            "30\n"
          ]
        }
      ]
    },
    {
      "cell_type": "code",
      "source": [
        "class B(A):\n",
        "  def show(self):\n",
        "    print(self.__c)"
      ],
      "metadata": {
        "id": "d8SO76WXZpg1"
      },
      "execution_count": null,
      "outputs": []
    },
    {
      "cell_type": "code",
      "source": [
        "p2=B()"
      ],
      "metadata": {
        "id": "CwYTZEe4Z0JX"
      },
      "execution_count": null,
      "outputs": []
    },
    {
      "cell_type": "code",
      "source": [
        "p2.show()"
      ],
      "metadata": {
        "colab": {
          "base_uri": "https://localhost:8080/",
          "height": 252
        },
        "id": "ynIfuFQabHc6",
        "outputId": "fffe01da-8e05-4db9-b33e-bb8e2f1c11b5"
      },
      "execution_count": null,
      "outputs": [
        {
          "output_type": "error",
          "ename": "AttributeError",
          "evalue": "ignored",
          "traceback": [
            "\u001b[0;31m---------------------------------------------------------------------------\u001b[0m",
            "\u001b[0;31mAttributeError\u001b[0m                            Traceback (most recent call last)",
            "\u001b[0;32m<ipython-input-137-e427480d26ad>\u001b[0m in \u001b[0;36m<module>\u001b[0;34m()\u001b[0m\n\u001b[0;32m----> 1\u001b[0;31m \u001b[0mp2\u001b[0m\u001b[0;34m.\u001b[0m\u001b[0mshow\u001b[0m\u001b[0;34m(\u001b[0m\u001b[0;34m)\u001b[0m\u001b[0;34m\u001b[0m\u001b[0;34m\u001b[0m\u001b[0m\n\u001b[0m",
            "\u001b[0;32m<ipython-input-135-984f4140dda0>\u001b[0m in \u001b[0;36mshow\u001b[0;34m(self)\u001b[0m\n\u001b[1;32m      1\u001b[0m \u001b[0;32mclass\u001b[0m \u001b[0mB\u001b[0m\u001b[0;34m(\u001b[0m\u001b[0mA\u001b[0m\u001b[0;34m)\u001b[0m\u001b[0;34m:\u001b[0m\u001b[0;34m\u001b[0m\u001b[0;34m\u001b[0m\u001b[0m\n\u001b[1;32m      2\u001b[0m   \u001b[0;32mdef\u001b[0m \u001b[0mshow\u001b[0m\u001b[0;34m(\u001b[0m\u001b[0mself\u001b[0m\u001b[0;34m)\u001b[0m\u001b[0;34m:\u001b[0m\u001b[0;34m\u001b[0m\u001b[0;34m\u001b[0m\u001b[0m\n\u001b[0;32m----> 3\u001b[0;31m     \u001b[0mprint\u001b[0m\u001b[0;34m(\u001b[0m\u001b[0mself\u001b[0m\u001b[0;34m.\u001b[0m\u001b[0m__c\u001b[0m\u001b[0;34m)\u001b[0m\u001b[0;34m\u001b[0m\u001b[0;34m\u001b[0m\u001b[0m\n\u001b[0m",
            "\u001b[0;31mAttributeError\u001b[0m: 'B' object has no attribute '_B__c'"
          ]
        }
      ]
    },
    {
      "cell_type": "code",
      "source": [
        "class C(B):\n",
        "  def show_me(self):\n",
        "    print(self._b)"
      ],
      "metadata": {
        "id": "ZzMJGlFbZ1p9"
      },
      "execution_count": null,
      "outputs": []
    },
    {
      "cell_type": "code",
      "source": [
        "p3=C()"
      ],
      "metadata": {
        "id": "QvPMdaKnZ7Iv"
      },
      "execution_count": null,
      "outputs": []
    },
    {
      "cell_type": "code",
      "source": [
        "p3.show_me()"
      ],
      "metadata": {
        "colab": {
          "base_uri": "https://localhost:8080/"
        },
        "id": "vxxOZ6q7awEt",
        "outputId": "2edba4f6-5022-4dc2-d7b8-bbf066751d19"
      },
      "execution_count": null,
      "outputs": [
        {
          "output_type": "stream",
          "name": "stdout",
          "text": [
            "20\n"
          ]
        }
      ]
    },
    {
      "cell_type": "code",
      "source": [
        "def abc():\n",
        "  pass"
      ],
      "metadata": {
        "id": "vMigvVBdaxaZ"
      },
      "execution_count": null,
      "outputs": []
    },
    {
      "cell_type": "code",
      "source": [
        "class Name:\n",
        "  pass"
      ],
      "metadata": {
        "id": "MQN9YxvocOjN"
      },
      "execution_count": null,
      "outputs": []
    },
    {
      "cell_type": "code",
      "source": [
        ""
      ],
      "metadata": {
        "id": "Cigy5QGPcS8x"
      },
      "execution_count": null,
      "outputs": []
    }
  ]
}