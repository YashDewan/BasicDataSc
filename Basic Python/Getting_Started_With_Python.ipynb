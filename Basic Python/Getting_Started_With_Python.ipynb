{
  "nbformat": 4,
  "nbformat_minor": 0,
  "metadata": {
    "colab": {
      "name": "Getting Started With Python.ipynb",
      "provenance": [],
      "collapsed_sections": [
        "M1mbUdN33z43",
        "LDWzaBrq44PL"
      ],
      "toc_visible": true,
      "include_colab_link": true
    },
    "kernelspec": {
      "name": "python3",
      "display_name": "Python 3"
    },
    "language_info": {
      "name": "python"
    }
  },
  "cells": [
    {
      "cell_type": "markdown",
      "metadata": {
        "id": "view-in-github",
        "colab_type": "text"
      },
      "source": [
        "<a href=\"https://colab.research.google.com/github/YashDewan/BasicDataSc/blob/main/Basic%20Python/Getting_Started_With_Python.ipynb\" target=\"_parent\"><img src=\"https://colab.research.google.com/assets/colab-badge.svg\" alt=\"Open In Colab\"/></a>"
      ]
    },
    {
      "cell_type": "markdown",
      "source": [
        "# Variables\n",
        "\n",
        "\n",
        "there are 5 data types\n",
        "\n",
        "\n",
        "\n",
        "*   number\n",
        "*   string\n",
        "\n",
        "\n",
        "varaible = value"
      ],
      "metadata": {
        "id": "R5mvFxv8zxz4"
      }
    },
    {
      "cell_type": "code",
      "execution_count": null,
      "metadata": {
        "colab": {
          "base_uri": "https://localhost:8080/"
        },
        "id": "WDaGGnEzyPkz",
        "outputId": "e926c772-0326-4807-9f9d-a342aa96dec7"
      },
      "outputs": [
        {
          "output_type": "stream",
          "name": "stdout",
          "text": [
            "Hello\n"
          ]
        }
      ],
      "source": [
        "print('Hello')"
      ]
    },
    {
      "cell_type": "code",
      "source": [
        "age = 18"
      ],
      "metadata": {
        "id": "hkGFAJBWyjcu"
      },
      "execution_count": null,
      "outputs": []
    },
    {
      "cell_type": "code",
      "source": [
        "print(age)"
      ],
      "metadata": {
        "colab": {
          "base_uri": "https://localhost:8080/"
        },
        "id": "7BnXPvTE1usr",
        "outputId": "7ed4ab88-795c-42b5-f474-f959a3c84040"
      },
      "execution_count": null,
      "outputs": [
        {
          "output_type": "execute_result",
          "data": {
            "text/plain": [
              "18"
            ]
          },
          "metadata": {},
          "execution_count": 8
        }
      ]
    },
    {
      "cell_type": "code",
      "source": [
        "name = 'pepper'\n",
        "print(name)"
      ],
      "metadata": {
        "colab": {
          "base_uri": "https://localhost:8080/"
        },
        "id": "C1rLUill2PxD",
        "outputId": "d0e71b2b-d599-44f2-906d-cb6e2febcc7a"
      },
      "execution_count": null,
      "outputs": [
        {
          "output_type": "stream",
          "name": "stdout",
          "text": [
            "pepper\n"
          ]
        }
      ]
    },
    {
      "cell_type": "code",
      "source": [
        "print(age, name)"
      ],
      "metadata": {
        "colab": {
          "base_uri": "https://localhost:8080/"
        },
        "id": "_FwmdY7l2WOH",
        "outputId": "4fb80593-87ce-4481-b0e1-a9123e2d3c94"
      },
      "execution_count": null,
      "outputs": [
        {
          "output_type": "stream",
          "name": "stdout",
          "text": [
            "19 pepper\n"
          ]
        }
      ]
    },
    {
      "cell_type": "code",
      "source": [
        "type(name)"
      ],
      "metadata": {
        "colab": {
          "base_uri": "https://localhost:8080/"
        },
        "id": "EKGYTIHX22NT",
        "outputId": "a02cc5d7-b9eb-468c-c4f5-c0bc51b79870"
      },
      "execution_count": null,
      "outputs": [
        {
          "output_type": "execute_result",
          "data": {
            "text/plain": [
              "str"
            ]
          },
          "metadata": {},
          "execution_count": 100
        }
      ]
    },
    {
      "cell_type": "markdown",
      "source": [
        "# Number\n",
        "\n",
        "< > <= >= /  //  * ** \n",
        "\n",
        "\n",
        "// quotient without decimal\n",
        "\n",
        "% remainder"
      ],
      "metadata": {
        "id": "M1mbUdN33z43"
      }
    },
    {
      "cell_type": "code",
      "source": [
        "q = age/5\n",
        "print(q)"
      ],
      "metadata": {
        "colab": {
          "base_uri": "https://localhost:8080/"
        },
        "id": "enoBEOGf28AQ",
        "outputId": "6e8e037b-a0ea-4c6b-9faf-3a6499b4925d"
      },
      "execution_count": null,
      "outputs": [
        {
          "output_type": "stream",
          "name": "stdout",
          "text": [
            "3.8\n"
          ]
        }
      ]
    },
    {
      "cell_type": "code",
      "source": [
        "type(q)"
      ],
      "metadata": {
        "colab": {
          "base_uri": "https://localhost:8080/"
        },
        "id": "TWkk2cid3HfR",
        "outputId": "ad26135b-049f-4851-b5b8-9231141e29df"
      },
      "execution_count": null,
      "outputs": [
        {
          "output_type": "execute_result",
          "data": {
            "text/plain": [
              "float"
            ]
          },
          "metadata": {},
          "execution_count": 102
        }
      ]
    },
    {
      "cell_type": "code",
      "source": [
        "print(age, q)"
      ],
      "metadata": {
        "colab": {
          "base_uri": "https://localhost:8080/"
        },
        "id": "kaOJOuvr3N48",
        "outputId": "0773616e-4d6d-44a1-e240-9320af767448"
      },
      "execution_count": null,
      "outputs": [
        {
          "output_type": "stream",
          "name": "stdout",
          "text": [
            "19 3.8\n"
          ]
        }
      ]
    },
    {
      "cell_type": "code",
      "source": [
        "ageLessQ = age < q"
      ],
      "metadata": {
        "id": "wIUFiv7N3ZIV"
      },
      "execution_count": null,
      "outputs": []
    },
    {
      "cell_type": "code",
      "source": [
        "print(ageLessQ)"
      ],
      "metadata": {
        "colab": {
          "base_uri": "https://localhost:8080/"
        },
        "id": "HKOsurAl3esV",
        "outputId": "1d83f02b-5860-4f0a-b4a5-7af9563a1d6e"
      },
      "execution_count": null,
      "outputs": [
        {
          "output_type": "stream",
          "name": "stdout",
          "text": [
            "False\n"
          ]
        }
      ]
    },
    {
      "cell_type": "code",
      "source": [
        "type(ageLessQ)"
      ],
      "metadata": {
        "colab": {
          "base_uri": "https://localhost:8080/"
        },
        "id": "YeT3lJPi3izL",
        "outputId": "95308e3c-99c6-4036-8251-6f4f7b2d5613"
      },
      "execution_count": null,
      "outputs": [
        {
          "output_type": "execute_result",
          "data": {
            "text/plain": [
              "bool"
            ]
          },
          "metadata": {},
          "execution_count": 106
        }
      ]
    },
    {
      "cell_type": "code",
      "source": [
        "print(age * q)"
      ],
      "metadata": {
        "colab": {
          "base_uri": "https://localhost:8080/"
        },
        "id": "Udf41R2E3lx3",
        "outputId": "78920783-ffa5-4e2f-9c59-76c21f0c5a5a"
      },
      "execution_count": null,
      "outputs": [
        {
          "output_type": "stream",
          "name": "stdout",
          "text": [
            "72.2\n"
          ]
        }
      ]
    },
    {
      "cell_type": "code",
      "source": [
        "age = 19\n",
        "\n",
        "print('Quotient is ', age // 5, 'Remainder is ', age%5, age / 3)"
      ],
      "metadata": {
        "colab": {
          "base_uri": "https://localhost:8080/"
        },
        "id": "QaiwCG7O3rIT",
        "outputId": "7bc9980c-6943-48ef-9b8c-35290f4901a6"
      },
      "execution_count": null,
      "outputs": [
        {
          "output_type": "stream",
          "name": "stdout",
          "text": [
            "Quotient is  3 Remainder is  4 6.333333333333333\n"
          ]
        }
      ]
    },
    {
      "cell_type": "code",
      "source": [
        "age**10"
      ],
      "metadata": {
        "colab": {
          "base_uri": "https://localhost:8080/"
        },
        "id": "P_MLlFWV4K2t",
        "outputId": "b538360d-de36-4b54-b4d4-524b9ae51a0f"
      },
      "execution_count": null,
      "outputs": [
        {
          "output_type": "execute_result",
          "data": {
            "text/plain": [
              "3570467226624"
            ]
          },
          "metadata": {},
          "execution_count": 37
        }
      ]
    },
    {
      "cell_type": "code",
      "source": [
        "print(type(age))\n",
        "age = 'abcf'\n",
        "print(type(age))"
      ],
      "metadata": {
        "colab": {
          "base_uri": "https://localhost:8080/"
        },
        "id": "Dm9E62C44hN0",
        "outputId": "cfc0cca8-21b4-422e-850b-50b1f90b6359"
      },
      "execution_count": null,
      "outputs": [
        {
          "output_type": "stream",
          "name": "stdout",
          "text": [
            "<class 'int'>\n",
            "<class 'str'>\n"
          ]
        }
      ]
    },
    {
      "cell_type": "markdown",
      "source": [
        "# Condition"
      ],
      "metadata": {
        "id": "LDWzaBrq44PL"
      }
    },
    {
      "cell_type": "code",
      "source": [
        "age = 17\n",
        "\n",
        "if age < 18:\n",
        "    print('balik')\n",
        "else:\n",
        "    print('nabalik')"
      ],
      "metadata": {
        "colab": {
          "base_uri": "https://localhost:8080/"
        },
        "id": "FeHTHp7X4prh",
        "outputId": "e83717f9-b462-4d88-e3c1-fa988c2b1d1c"
      },
      "execution_count": null,
      "outputs": [
        {
          "output_type": "stream",
          "name": "stdout",
          "text": [
            "balik\n"
          ]
        }
      ]
    },
    {
      "cell_type": "markdown",
      "source": [
        "weight < 40 underweight\n",
        "\n",
        "weight >= 40 and weight <= 60 fit\n",
        "\n",
        "weight > 60 overweight"
      ],
      "metadata": {
        "id": "vxwgeS4w6OQ_"
      }
    },
    {
      "cell_type": "markdown",
      "source": [
        "**Nested if else**"
      ],
      "metadata": {
        "id": "2Rr7SeNW6_m_"
      }
    },
    {
      "cell_type": "code",
      "source": [
        "weight = 28\n",
        "\n",
        "if weight<40:\n",
        "    print('underweight')\n",
        "else:\n",
        "    if weight > 60:\n",
        "        print('overweight')\n",
        "    else :\n",
        "        print('fit')"
      ],
      "metadata": {
        "colab": {
          "base_uri": "https://localhost:8080/"
        },
        "id": "KXJ83mmV55GY",
        "outputId": "9359e148-acfd-4cac-e734-5591d065576a"
      },
      "execution_count": null,
      "outputs": [
        {
          "output_type": "stream",
          "name": "stdout",
          "text": [
            "underweight\n"
          ]
        }
      ]
    },
    {
      "cell_type": "code",
      "source": [
        "weight = 78\n",
        "\n",
        "if weight<40:\n",
        "    print('underweight')\n",
        "elif weight > 60:\n",
        "    print('overweight')\n",
        "else:\n",
        "    print('fit')"
      ],
      "metadata": {
        "colab": {
          "base_uri": "https://localhost:8080/"
        },
        "id": "iTP9nqGF55Pv",
        "outputId": "7f3f9e8e-4c8a-4fbc-e299-c190f0c8385e"
      },
      "execution_count": null,
      "outputs": [
        {
          "output_type": "stream",
          "name": "stdout",
          "text": [
            "overweight\n"
          ]
        }
      ]
    },
    {
      "cell_type": "markdown",
      "source": [
        "# Loops\n",
        "\n",
        "\n",
        "\n",
        "*   for\n",
        "*   while\n",
        "\n",
        "\n",
        "range(end)                  [0, end)\n",
        "\n",
        "range(start, end)           [start, end)\n",
        "\n",
        "range(start, end, step)\n",
        "\n",
        "continue skip current iteration\n",
        "\n",
        "break terminates loop"
      ],
      "metadata": {
        "id": "K82G0LXx9tPH"
      }
    },
    {
      "cell_type": "code",
      "source": [
        "print(1)\n",
        "print(2)\n",
        "print(3)\n",
        "print(4)\n",
        "print(5)"
      ],
      "metadata": {
        "colab": {
          "base_uri": "https://localhost:8080/"
        },
        "id": "wWk4hHPE9sp2",
        "outputId": "773600b5-d1d2-4f44-df37-7bf1bb32859b"
      },
      "execution_count": null,
      "outputs": [
        {
          "output_type": "stream",
          "name": "stdout",
          "text": [
            "1\n",
            "2\n",
            "3\n",
            "4\n",
            "5\n"
          ]
        }
      ]
    },
    {
      "cell_type": "code",
      "source": [
        "for i in range(2, 10, -2):\n",
        "    print(i)"
      ],
      "metadata": {
        "colab": {
          "base_uri": "https://localhost:8080/"
        },
        "id": "lo8wZEhd-lWd",
        "outputId": "4d9d58ce-5204-4d5d-8eb0-74c45c242ac0"
      },
      "execution_count": null,
      "outputs": [
        {
          "output_type": "stream",
          "name": "stdout",
          "text": [
            "10\n",
            "8\n",
            "6\n",
            "4\n"
          ]
        }
      ]
    },
    {
      "cell_type": "markdown",
      "source": [
        "**Skip printing multiples ot 3**"
      ],
      "metadata": {
        "id": "8b2cHaAj_60Z"
      }
    },
    {
      "cell_type": "code",
      "source": [
        "for i in range(2, 10):\n",
        "    if i % 3 == 0:\n",
        "        continue\n",
        "    \n",
        "    print(i)"
      ],
      "metadata": {
        "colab": {
          "base_uri": "https://localhost:8080/"
        },
        "id": "8NSFh_sa_6Iy",
        "outputId": "d013374b-9c83-4614-a9af-06c19b45d245"
      },
      "execution_count": null,
      "outputs": [
        {
          "output_type": "stream",
          "name": "stdout",
          "text": [
            "2\n",
            "4\n",
            "5\n",
            "7\n",
            "8\n"
          ]
        }
      ]
    },
    {
      "cell_type": "markdown",
      "source": [
        "**Terminate loop if 7 is encountered**"
      ],
      "metadata": {
        "id": "YHiKs70DAny9"
      }
    },
    {
      "cell_type": "code",
      "source": [
        "for i in range(2, 10):\n",
        "    if i == 7:\n",
        "        break\n",
        "    \n",
        "    print(i)\n",
        "\n",
        "print('outside')"
      ],
      "metadata": {
        "colab": {
          "base_uri": "https://localhost:8080/"
        },
        "id": "8Hi5THJBAnWs",
        "outputId": "ae7099cf-ebe4-4dc6-ced2-4a58512d15c0"
      },
      "execution_count": null,
      "outputs": [
        {
          "output_type": "stream",
          "name": "stdout",
          "text": [
            "2\n",
            "3\n",
            "4\n",
            "5\n",
            "6\n",
            "outside\n"
          ]
        }
      ]
    },
    {
      "cell_type": "code",
      "source": [
        "i = 1\n",
        "\n",
        "while i <= 5:\n",
        "    print(i)\n",
        "    i += 1\n",
        "\n",
        "print('outside loop', i)"
      ],
      "metadata": {
        "colab": {
          "base_uri": "https://localhost:8080/"
        },
        "id": "4Ff7SEJoBXcb",
        "outputId": "c4ec40ac-91f8-437e-80e1-ba5c45761f80"
      },
      "execution_count": null,
      "outputs": [
        {
          "output_type": "stream",
          "name": "stdout",
          "text": [
            "1\n",
            "2\n",
            "3\n",
            "4\n",
            "5\n",
            "outside loop 6\n"
          ]
        }
      ]
    },
    {
      "cell_type": "markdown",
      "source": [
        "# String\n",
        "\n",
        "\n",
        "\n",
        "*   string is immutable\n",
        "*   string[start: end: step] similar to range\n",
        "*   multi lines \"\"\" '''\n",
        "\n"
      ],
      "metadata": {
        "id": "Oc72wQbZO3DY"
      }
    },
    {
      "cell_type": "code",
      "source": [
        "st = 'pepper'"
      ],
      "metadata": {
        "id": "EyIJPnyqO3zK"
      },
      "execution_count": null,
      "outputs": []
    },
    {
      "cell_type": "code",
      "source": [
        "print(st)\n",
        "print(type(st))"
      ],
      "metadata": {
        "colab": {
          "base_uri": "https://localhost:8080/"
        },
        "id": "HyGbTs3tO89j",
        "outputId": "89ab9b7d-c2e0-45ad-d540-9fa93f784b9c"
      },
      "execution_count": null,
      "outputs": [
        {
          "output_type": "stream",
          "name": "stdout",
          "text": [
            "pepper\n",
            "<class 'str'>\n"
          ]
        }
      ]
    },
    {
      "cell_type": "code",
      "source": [
        "st = \"\"\"pepper \n",
        "at pepcoding\n",
        "\"\"\""
      ],
      "metadata": {
        "id": "IZ7jmsGFO-6S"
      },
      "execution_count": null,
      "outputs": []
    },
    {
      "cell_type": "code",
      "source": [
        "print(st)"
      ],
      "metadata": {
        "colab": {
          "base_uri": "https://localhost:8080/"
        },
        "id": "9xvXJGxxPR0g",
        "outputId": "da04d073-5f8a-403d-ac13-84372a8e9102"
      },
      "execution_count": null,
      "outputs": [
        {
          "output_type": "stream",
          "name": "stdout",
          "text": [
            "pepper \n",
            "at pepcoding\n",
            "\n"
          ]
        }
      ]
    },
    {
      "cell_type": "markdown",
      "source": [
        "**create string with value peppy's**\n",
        "\n",
        "\\b \\f \\t"
      ],
      "metadata": {
        "id": "z3_ZKiICPdz6"
      }
    },
    {
      "cell_type": "code",
      "source": [
        "name = \"pepp\\ty's\"\n",
        "print(name)"
      ],
      "metadata": {
        "colab": {
          "base_uri": "https://localhost:8080/"
        },
        "id": "Sdx-8L_8Pcie",
        "outputId": "e0912766-7ec5-489c-c8c5-ba2879ca4e1e"
      },
      "execution_count": null,
      "outputs": [
        {
          "output_type": "stream",
          "name": "stdout",
          "text": [
            "pepp\ty's\n"
          ]
        }
      ]
    },
    {
      "cell_type": "code",
      "source": [
        "name = 'abcdef'\n",
        "\n",
        "print(type(name[0]))"
      ],
      "metadata": {
        "colab": {
          "base_uri": "https://localhost:8080/"
        },
        "id": "ppWL2dSAQqjk",
        "outputId": "38a1ff2d-aa84-4c5b-c763-74d0a774df39"
      },
      "execution_count": null,
      "outputs": [
        {
          "output_type": "stream",
          "name": "stdout",
          "text": [
            "<class 'str'>\n"
          ]
        }
      ]
    },
    {
      "cell_type": "code",
      "source": [
        "name[2]"
      ],
      "metadata": {
        "colab": {
          "base_uri": "https://localhost:8080/",
          "height": 35
        },
        "id": "84v6KTxlPj17",
        "outputId": "a6dcb88a-85ba-4f89-eab0-eff225cbe08a"
      },
      "execution_count": null,
      "outputs": [
        {
          "output_type": "execute_result",
          "data": {
            "application/vnd.google.colaboratory.intrinsic+json": {
              "type": "string"
            },
            "text/plain": [
              "'c'"
            ]
          },
          "metadata": {},
          "execution_count": 179
        }
      ]
    },
    {
      "cell_type": "code",
      "source": [
        "name[1: 5]"
      ],
      "metadata": {
        "colab": {
          "base_uri": "https://localhost:8080/",
          "height": 35
        },
        "id": "88aeYU3fSWfH",
        "outputId": "fa32f523-83e0-483a-cd60-746a9ee00a82"
      },
      "execution_count": null,
      "outputs": [
        {
          "output_type": "execute_result",
          "data": {
            "application/vnd.google.colaboratory.intrinsic+json": {
              "type": "string"
            },
            "text/plain": [
              "'bcde'"
            ]
          },
          "metadata": {},
          "execution_count": 180
        }
      ]
    },
    {
      "cell_type": "code",
      "source": [
        "name[1: 5: 2]"
      ],
      "metadata": {
        "colab": {
          "base_uri": "https://localhost:8080/",
          "height": 35
        },
        "id": "V29h3XIUSpUc",
        "outputId": "fd4de49a-c236-4934-fb7f-56cbe075a7ce"
      },
      "execution_count": null,
      "outputs": [
        {
          "output_type": "execute_result",
          "data": {
            "application/vnd.google.colaboratory.intrinsic+json": {
              "type": "string"
            },
            "text/plain": [
              "'bd'"
            ]
          },
          "metadata": {},
          "execution_count": 181
        }
      ]
    },
    {
      "cell_type": "code",
      "source": [
        "name[2:-2]"
      ],
      "metadata": {
        "colab": {
          "base_uri": "https://localhost:8080/",
          "height": 35
        },
        "id": "ysxmlFmNSYG_",
        "outputId": "c398f920-f94c-43c6-fdbc-bafd621a3c27"
      },
      "execution_count": null,
      "outputs": [
        {
          "output_type": "execute_result",
          "data": {
            "application/vnd.google.colaboratory.intrinsic+json": {
              "type": "string"
            },
            "text/plain": [
              "'cd'"
            ]
          },
          "metadata": {},
          "execution_count": 182
        }
      ]
    },
    {
      "cell_type": "code",
      "source": [
        "name[::-2]"
      ],
      "metadata": {
        "colab": {
          "base_uri": "https://localhost:8080/",
          "height": 35
        },
        "id": "FPr8n7i9S2PO",
        "outputId": "06461706-26ad-4fd1-9236-30a19adc9431"
      },
      "execution_count": null,
      "outputs": [
        {
          "output_type": "execute_result",
          "data": {
            "application/vnd.google.colaboratory.intrinsic+json": {
              "type": "string"
            },
            "text/plain": [
              "'fdb'"
            ]
          },
          "metadata": {},
          "execution_count": 183
        }
      ]
    },
    {
      "cell_type": "code",
      "source": [
        "name[0]"
      ],
      "metadata": {
        "colab": {
          "base_uri": "https://localhost:8080/",
          "height": 35
        },
        "id": "isbY0G6WTOjb",
        "outputId": "c82e5ae5-58cf-468f-b662-98f024350e97"
      },
      "execution_count": null,
      "outputs": [
        {
          "output_type": "execute_result",
          "data": {
            "application/vnd.google.colaboratory.intrinsic+json": {
              "type": "string"
            },
            "text/plain": [
              "'a'"
            ]
          },
          "metadata": {},
          "execution_count": 184
        }
      ]
    },
    {
      "cell_type": "code",
      "source": [
        "len(name)"
      ],
      "metadata": {
        "colab": {
          "base_uri": "https://localhost:8080/"
        },
        "id": "4fuqcuntT2JB",
        "outputId": "c1adf620-c7c9-45d4-b9d0-172bebe33974"
      },
      "execution_count": null,
      "outputs": [
        {
          "output_type": "execute_result",
          "data": {
            "text/plain": [
              "6"
            ]
          },
          "metadata": {},
          "execution_count": 185
        }
      ]
    },
    {
      "cell_type": "code",
      "source": [
        "name"
      ],
      "metadata": {
        "colab": {
          "base_uri": "https://localhost:8080/",
          "height": 35
        },
        "id": "J2OayjfyU1Xb",
        "outputId": "c187476b-a813-4df6-f742-426265ca40d9"
      },
      "execution_count": null,
      "outputs": [
        {
          "output_type": "execute_result",
          "data": {
            "application/vnd.google.colaboratory.intrinsic+json": {
              "type": "string"
            },
            "text/plain": [
              "'abcdef'"
            ]
          },
          "metadata": {},
          "execution_count": 186
        }
      ]
    },
    {
      "cell_type": "code",
      "source": [
        "for c in name:\n",
        "    print(c)"
      ],
      "metadata": {
        "colab": {
          "base_uri": "https://localhost:8080/"
        },
        "id": "qLYXW7HTUWT9",
        "outputId": "c54f20ac-e654-4382-ad21-bcfb6ab27a4b"
      },
      "execution_count": null,
      "outputs": [
        {
          "output_type": "stream",
          "name": "stdout",
          "text": [
            "a\n",
            "b\n",
            "c\n",
            "d\n",
            "e\n",
            "f\n"
          ]
        }
      ]
    },
    {
      "cell_type": "code",
      "source": [
        "for i in range(0, len(name)):\n",
        "    print(i, name[i])"
      ],
      "metadata": {
        "colab": {
          "base_uri": "https://localhost:8080/"
        },
        "id": "15LUHVyoTq-S",
        "outputId": "0aec6ffe-6fb7-467d-ad9f-f2e1ee95cf60"
      },
      "execution_count": null,
      "outputs": [
        {
          "output_type": "stream",
          "name": "stdout",
          "text": [
            "0 a\n",
            "1 b\n",
            "2 c\n",
            "3 d\n",
            "4 e\n",
            "5 f\n"
          ]
        }
      ]
    },
    {
      "cell_type": "code",
      "source": [
        "name = 'my name is diwakar and i am at pepcoding'\n",
        "print(name)"
      ],
      "metadata": {
        "colab": {
          "base_uri": "https://localhost:8080/"
        },
        "id": "a_v88dJAUabP",
        "outputId": "8ee9b063-42cc-4a14-a3d7-ab99945b87b5"
      },
      "execution_count": null,
      "outputs": [
        {
          "output_type": "stream",
          "name": "stdout",
          "text": [
            "my name is diwakar and i am at pepcoding\n"
          ]
        }
      ]
    },
    {
      "cell_type": "code",
      "source": [
        "'and i' in name"
      ],
      "metadata": {
        "colab": {
          "base_uri": "https://localhost:8080/"
        },
        "id": "Mqq_Vd8EUl5Q",
        "outputId": "1a510a33-8c42-4bc5-ec95-ab2fce4b1dc6"
      },
      "execution_count": null,
      "outputs": [
        {
          "output_type": "execute_result",
          "data": {
            "text/plain": [
              "True"
            ]
          },
          "metadata": {},
          "execution_count": 176
        }
      ]
    }
  ]
}